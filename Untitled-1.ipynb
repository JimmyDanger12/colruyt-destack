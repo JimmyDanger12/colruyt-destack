{
 "cells": [
  {
   "cell_type": "code",
   "execution_count": 80,
   "metadata": {},
   "outputs": [],
   "source": [
    "import numpy as np\n",
    "import math\n",
    "from scipy.spatial.transform import Rotation as R"
   ]
  },
  {
   "cell_type": "code",
   "execution_count": 37,
   "metadata": {},
   "outputs": [
    {
     "data": {
      "text/plain": [
       "array([ 1.19829095, -1.16639826,  1.16644954])"
      ]
     },
     "execution_count": 37,
     "metadata": {},
     "output_type": "execute_result"
    }
   ],
   "source": [
    "base_angles = np.array((1.2,-1.2,1.2))\n",
    "\n",
    "p1 = np.array([   -0.38304,     -1.0463,    -0.31183])\n",
    "p2 = np.array([  -0.099339,     -1.0366,    -0.33106])\n",
    "p3 = np.array([   -0.38906,      -1.046,    -0.50023])\n",
    "\n",
    "d12 = np.array(p2) - np.array(p1)\n",
    "d13 = np.array(p3) - np.array(p1)\n",
    "dz = np.cross(d12, d13)\n",
    "\n",
    "X = d12 / np.linalg.norm(d12)\n",
    "Z = dz / np.linalg.norm(dz)\n",
    "Y = np.cross(X,Z)\n",
    "\n",
    "rot = np.column_stack((X,Y,Z))\n",
    "angles = R.from_matrix(rot).as_rotvec(degrees=False)\n",
    "corrected_angles = angles + base_angles\n",
    "corrected_angles"
   ]
  },
  {
   "cell_type": "code",
   "execution_count": 38,
   "metadata": {},
   "outputs": [
    {
     "data": {
      "text/plain": [
       "array([ 1.2788, -1.1942,  1.1837])"
      ]
     },
     "execution_count": 38,
     "metadata": {},
     "output_type": "execute_result"
    }
   ],
   "source": [
    "goal_angles = np.array((1.2788,-1.1942,1.1837))\n",
    "goal_angles"
   ]
  },
  {
   "cell_type": "code",
   "execution_count": 81,
   "metadata": {},
   "outputs": [
    {
     "data": {
      "text/plain": [
       "array([[ 0.31021 , -1.108   ,  0.42579 ],\n",
       "       [ 0.027145, -1.117   ,  0.42355 ],\n",
       "       [ 0.30673 , -1.1124  ,  0.18042 ],\n",
       "       [ 0.032784, -1.109   ,  0.18138 ]])"
      ]
     },
     "execution_count": 81,
     "metadata": {},
     "output_type": "execute_result"
    }
   ],
   "source": [
    "p1 = np.array([0.31021, -1.108, 0.42579])  #top left\n",
    "p2 = np.array([0.027145, -1.117, 0.42355]) #top right\n",
    "p3 = np.array([0.30673, -1.1124, 0.18042]) #bottom left\n",
    "p4 = np.array([0.032784, -1.109, 0.18138]) #bottom right\n",
    "coords = np.array((p1,p2,p3,p4))\n",
    "\n",
    "def sort_coords(coords):\n",
    "    top_points = np.sort(coords[:2],axis=0)[::-1]\n",
    "    bottom_points = np.sort(coords[2:],axis=0)[::-1]\n",
    "\n",
    "    return np.concatenate((top_points,bottom_points),axis=0)\n",
    "coords"
   ]
  },
  {
   "cell_type": "code",
   "execution_count": 44,
   "metadata": {},
   "outputs": [
    {
     "data": {
      "text/plain": [
       "0.37013729592165334"
      ]
     },
     "execution_count": 44,
     "metadata": {},
     "output_type": "execute_result"
    }
   ],
   "source": [
    "def calc_3d_distance(a,b):\n",
    "    x1,y1,z1 = a\n",
    "    x2,y2,z2 = b\n",
    "    distance = math.sqrt((x2 - x1)**2 + (y2 - y1)**2 + (z2 - z1)**2)\n",
    "    return distance\n",
    "\n",
    "approx_height_1 = calc_3d_distance(coords[0][:3],coords[2][:3])\n",
    "approx_height_2 = calc_3d_distance(coords[1][:3],coords[3][:3])\n",
    "approx_height = np.mean([approx_height_1,approx_height_2],axis=0)\n",
    "approx_height"
   ]
  },
  {
   "cell_type": "code",
   "execution_count": 84,
   "metadata": {},
   "outputs": [],
   "source": [
    "def get_crate_height(coords):\n",
    "    def calc_3d_distance(a,b):\n",
    "        x1,y1,z1 = a\n",
    "        x2,y2,z2 = b\n",
    "        distance = math.sqrt((x2 - x1)**2 + (y2 - y1)**2 + (z2 - z1)**2)\n",
    "        return distance\n",
    "\n",
    "    approx_height_1 = calc_3d_distance(coords[0][:3],coords[2][:3])\n",
    "    approx_height_2 = calc_3d_distance(coords[1][:3],coords[3][:3])\n",
    "    approx_height = round(np.mean([approx_height_1,approx_height_2],axis=0),3)\n",
    "\n",
    "    return approx_height"
   ]
  },
  {
   "cell_type": "code",
   "execution_count": 87,
   "metadata": {},
   "outputs": [
    {
     "name": "stdout",
     "output_type": "stream",
     "text": [
      "0.311\n",
      "0.238\n"
     ]
    }
   ],
   "source": [
    "c1 = [[0.35515,-1.1736,0.19674],\n",
    "      [-0.081649,-1.5272,0.12831],\n",
    "      [0.3549,-1.1753,-0.034433],\n",
    "      [-0.018698, -1.1903, -0.058295]]\n",
    "\n",
    "print(get_crate_height(c1))\n",
    "\n",
    "c2 = [[0.35774, -1.193,-0.28255],\n",
    "      [-0.027246, -1.2087, -0.2869],\n",
    "      [0.348, -1.1975, -0.51525],\n",
    "      [-0.024338, -1.2087, -0.5297]]\n",
    "print(get_crate_height(c2))"
   ]
  },
  {
   "cell_type": "code",
   "execution_count": 89,
   "metadata": {},
   "outputs": [
    {
     "data": {
      "text/plain": [
       "3"
      ]
     },
     "execution_count": 89,
     "metadata": {},
     "output_type": "execute_result"
    }
   ],
   "source": [
    "# Extract y-coordinates\n",
    "y_coordinates = [coord[1] for coord in c1]\n",
    "\n",
    "# Find the y-coordinate that does not match the others\n",
    "unique_y_coordinate = min(set(y_coordinates), key=y_coordinates.count)\n",
    "\n",
    "# Find the index of the unique y-coordinate\n",
    "index_of_unique_y_coordinate = y_coordinates.index(unique_y_coordinate)\n",
    "index_of_unique_y_coordinate"
   ]
  },
  {
   "cell_type": "code",
   "execution_count": 90,
   "metadata": {},
   "outputs": [],
   "source": [
    "import pandas as pd"
   ]
  },
  {
   "cell_type": "code",
   "execution_count": 122,
   "metadata": {},
   "outputs": [],
   "source": [
    "data_raw = pd.read_csv(\"vision/data/offset-data.csv\")"
   ]
  },
  {
   "cell_type": "code",
   "execution_count": 123,
   "metadata": {},
   "outputs": [
    {
     "data": {
      "text/html": [
       "<div>\n",
       "<style scoped>\n",
       "    .dataframe tbody tr th:only-of-type {\n",
       "        vertical-align: middle;\n",
       "    }\n",
       "\n",
       "    .dataframe tbody tr th {\n",
       "        vertical-align: top;\n",
       "    }\n",
       "\n",
       "    .dataframe thead th {\n",
       "        text-align: right;\n",
       "    }\n",
       "</style>\n",
       "<table border=\"1\" class=\"dataframe\">\n",
       "  <thead>\n",
       "    <tr style=\"text-align: right;\">\n",
       "      <th></th>\n",
       "      <th>column</th>\n",
       "      <th>row</th>\n",
       "      <th>orientation</th>\n",
       "      <th>depth</th>\n",
       "      <th>X</th>\n",
       "      <th>Y</th>\n",
       "      <th>Z</th>\n",
       "    </tr>\n",
       "  </thead>\n",
       "  <tbody>\n",
       "    <tr>\n",
       "      <th>0</th>\n",
       "      <td>1</td>\n",
       "      <td>1</td>\n",
       "      <td>side</td>\n",
       "      <td>back of carrier</td>\n",
       "      <td>1.5</td>\n",
       "      <td>0.00</td>\n",
       "      <td>-1.00</td>\n",
       "    </tr>\n",
       "    <tr>\n",
       "      <th>1</th>\n",
       "      <td>1</td>\n",
       "      <td>2</td>\n",
       "      <td>side</td>\n",
       "      <td>back of carrier</td>\n",
       "      <td>1.0</td>\n",
       "      <td>0.00</td>\n",
       "      <td>-1.00</td>\n",
       "    </tr>\n",
       "    <tr>\n",
       "      <th>2</th>\n",
       "      <td>1</td>\n",
       "      <td>3</td>\n",
       "      <td>side</td>\n",
       "      <td>back of carrier</td>\n",
       "      <td>0.5</td>\n",
       "      <td>0.00</td>\n",
       "      <td>-0.50</td>\n",
       "    </tr>\n",
       "    <tr>\n",
       "      <th>3</th>\n",
       "      <td>1</td>\n",
       "      <td>4</td>\n",
       "      <td>side</td>\n",
       "      <td>back of carrier</td>\n",
       "      <td>-0.5</td>\n",
       "      <td>-0.50</td>\n",
       "      <td>-0.25</td>\n",
       "    </tr>\n",
       "    <tr>\n",
       "      <th>4</th>\n",
       "      <td>1</td>\n",
       "      <td>5</td>\n",
       "      <td>side</td>\n",
       "      <td>back of carrier</td>\n",
       "      <td>-2.5</td>\n",
       "      <td>-1.00</td>\n",
       "      <td>-0.25</td>\n",
       "    </tr>\n",
       "    <tr>\n",
       "      <th>5</th>\n",
       "      <td>2</td>\n",
       "      <td>1</td>\n",
       "      <td>side</td>\n",
       "      <td>back of carrier</td>\n",
       "      <td>2.0</td>\n",
       "      <td>-1.00</td>\n",
       "      <td>1.50</td>\n",
       "    </tr>\n",
       "    <tr>\n",
       "      <th>6</th>\n",
       "      <td>2</td>\n",
       "      <td>2</td>\n",
       "      <td>side</td>\n",
       "      <td>back of carrier</td>\n",
       "      <td>2.0</td>\n",
       "      <td>-1.00</td>\n",
       "      <td>1.00</td>\n",
       "    </tr>\n",
       "    <tr>\n",
       "      <th>7</th>\n",
       "      <td>2</td>\n",
       "      <td>3</td>\n",
       "      <td>side</td>\n",
       "      <td>back of carrier</td>\n",
       "      <td>1.0</td>\n",
       "      <td>-1.00</td>\n",
       "      <td>1.50</td>\n",
       "    </tr>\n",
       "    <tr>\n",
       "      <th>8</th>\n",
       "      <td>2</td>\n",
       "      <td>4</td>\n",
       "      <td>side</td>\n",
       "      <td>back of carrier</td>\n",
       "      <td>-1.0</td>\n",
       "      <td>-1.25</td>\n",
       "      <td>0.50</td>\n",
       "    </tr>\n",
       "    <tr>\n",
       "      <th>9</th>\n",
       "      <td>2</td>\n",
       "      <td>5</td>\n",
       "      <td>side</td>\n",
       "      <td>back of carrier</td>\n",
       "      <td>-3.0</td>\n",
       "      <td>-2.25</td>\n",
       "      <td>1.25</td>\n",
       "    </tr>\n",
       "    <tr>\n",
       "      <th>10</th>\n",
       "      <td>1</td>\n",
       "      <td>1</td>\n",
       "      <td>front</td>\n",
       "      <td>front of carrier</td>\n",
       "      <td>3.0</td>\n",
       "      <td>0.00</td>\n",
       "      <td>-0.50</td>\n",
       "    </tr>\n",
       "    <tr>\n",
       "      <th>11</th>\n",
       "      <td>1</td>\n",
       "      <td>2</td>\n",
       "      <td>front</td>\n",
       "      <td>front of carrier</td>\n",
       "      <td>0.5</td>\n",
       "      <td>0.50</td>\n",
       "      <td>-1.00</td>\n",
       "    </tr>\n",
       "    <tr>\n",
       "      <th>12</th>\n",
       "      <td>1</td>\n",
       "      <td>3</td>\n",
       "      <td>front</td>\n",
       "      <td>front of carrier</td>\n",
       "      <td>0.5</td>\n",
       "      <td>-1.00</td>\n",
       "      <td>-0.75</td>\n",
       "    </tr>\n",
       "    <tr>\n",
       "      <th>13</th>\n",
       "      <td>1</td>\n",
       "      <td>4</td>\n",
       "      <td>front</td>\n",
       "      <td>front of carrier</td>\n",
       "      <td>-1.5</td>\n",
       "      <td>0.50</td>\n",
       "      <td>-1.00</td>\n",
       "    </tr>\n",
       "    <tr>\n",
       "      <th>14</th>\n",
       "      <td>1</td>\n",
       "      <td>5</td>\n",
       "      <td>front</td>\n",
       "      <td>front of carrier</td>\n",
       "      <td>-4.0</td>\n",
       "      <td>-0.75</td>\n",
       "      <td>-0.75</td>\n",
       "    </tr>\n",
       "    <tr>\n",
       "      <th>15</th>\n",
       "      <td>1</td>\n",
       "      <td>1</td>\n",
       "      <td>front</td>\n",
       "      <td>back of carrier</td>\n",
       "      <td>2.0</td>\n",
       "      <td>0.00</td>\n",
       "      <td>-1.00</td>\n",
       "    </tr>\n",
       "    <tr>\n",
       "      <th>16</th>\n",
       "      <td>1</td>\n",
       "      <td>2</td>\n",
       "      <td>front</td>\n",
       "      <td>back of carrier</td>\n",
       "      <td>2.0</td>\n",
       "      <td>0.00</td>\n",
       "      <td>-0.50</td>\n",
       "    </tr>\n",
       "    <tr>\n",
       "      <th>17</th>\n",
       "      <td>1</td>\n",
       "      <td>3</td>\n",
       "      <td>front</td>\n",
       "      <td>back of carrier</td>\n",
       "      <td>0.0</td>\n",
       "      <td>-0.50</td>\n",
       "      <td>-0.75</td>\n",
       "    </tr>\n",
       "    <tr>\n",
       "      <th>18</th>\n",
       "      <td>1</td>\n",
       "      <td>4</td>\n",
       "      <td>front</td>\n",
       "      <td>back of carrier</td>\n",
       "      <td>-1.0</td>\n",
       "      <td>0.00</td>\n",
       "      <td>-1.25</td>\n",
       "    </tr>\n",
       "    <tr>\n",
       "      <th>19</th>\n",
       "      <td>1</td>\n",
       "      <td>5</td>\n",
       "      <td>front</td>\n",
       "      <td>back of carrier</td>\n",
       "      <td>-3.0</td>\n",
       "      <td>-0.75</td>\n",
       "      <td>-0.50</td>\n",
       "    </tr>\n",
       "    <tr>\n",
       "      <th>20</th>\n",
       "      <td>2</td>\n",
       "      <td>1</td>\n",
       "      <td>front</td>\n",
       "      <td>front of carrier</td>\n",
       "      <td>2.0</td>\n",
       "      <td>-1.00</td>\n",
       "      <td>0.75</td>\n",
       "    </tr>\n",
       "    <tr>\n",
       "      <th>21</th>\n",
       "      <td>2</td>\n",
       "      <td>2</td>\n",
       "      <td>front</td>\n",
       "      <td>front of carrier</td>\n",
       "      <td>1.0</td>\n",
       "      <td>-0.75</td>\n",
       "      <td>0.75</td>\n",
       "    </tr>\n",
       "    <tr>\n",
       "      <th>22</th>\n",
       "      <td>2</td>\n",
       "      <td>3</td>\n",
       "      <td>front</td>\n",
       "      <td>front of carrier</td>\n",
       "      <td>-1.0</td>\n",
       "      <td>-1.50</td>\n",
       "      <td>1.00</td>\n",
       "    </tr>\n",
       "    <tr>\n",
       "      <th>23</th>\n",
       "      <td>2</td>\n",
       "      <td>4</td>\n",
       "      <td>front</td>\n",
       "      <td>front of carrier</td>\n",
       "      <td>-1.5</td>\n",
       "      <td>-1.75</td>\n",
       "      <td>0.25</td>\n",
       "    </tr>\n",
       "    <tr>\n",
       "      <th>24</th>\n",
       "      <td>2</td>\n",
       "      <td>5</td>\n",
       "      <td>front</td>\n",
       "      <td>front of carrier</td>\n",
       "      <td>-3.0</td>\n",
       "      <td>-2.00</td>\n",
       "      <td>0.25</td>\n",
       "    </tr>\n",
       "    <tr>\n",
       "      <th>25</th>\n",
       "      <td>2</td>\n",
       "      <td>1</td>\n",
       "      <td>front</td>\n",
       "      <td>back of carrier</td>\n",
       "      <td>3.5</td>\n",
       "      <td>-0.50</td>\n",
       "      <td>1.50</td>\n",
       "    </tr>\n",
       "    <tr>\n",
       "      <th>26</th>\n",
       "      <td>2</td>\n",
       "      <td>2</td>\n",
       "      <td>front</td>\n",
       "      <td>back of carrier</td>\n",
       "      <td>2.0</td>\n",
       "      <td>-1.00</td>\n",
       "      <td>0.75</td>\n",
       "    </tr>\n",
       "    <tr>\n",
       "      <th>27</th>\n",
       "      <td>2</td>\n",
       "      <td>3</td>\n",
       "      <td>front</td>\n",
       "      <td>back of carrier</td>\n",
       "      <td>0.0</td>\n",
       "      <td>1.00</td>\n",
       "      <td>1.00</td>\n",
       "    </tr>\n",
       "    <tr>\n",
       "      <th>28</th>\n",
       "      <td>2</td>\n",
       "      <td>4</td>\n",
       "      <td>front</td>\n",
       "      <td>back of carrier</td>\n",
       "      <td>1.5</td>\n",
       "      <td>0.00</td>\n",
       "      <td>1.00</td>\n",
       "    </tr>\n",
       "    <tr>\n",
       "      <th>29</th>\n",
       "      <td>2</td>\n",
       "      <td>5</td>\n",
       "      <td>front</td>\n",
       "      <td>back of carrier</td>\n",
       "      <td>-3.0</td>\n",
       "      <td>-1.50</td>\n",
       "      <td>0.50</td>\n",
       "    </tr>\n",
       "  </tbody>\n",
       "</table>\n",
       "</div>"
      ],
      "text/plain": [
       "    column  row orientation             depth    X     Y     Z\n",
       "0        1    1        side   back of carrier  1.5  0.00 -1.00\n",
       "1        1    2        side   back of carrier  1.0  0.00 -1.00\n",
       "2        1    3        side   back of carrier  0.5  0.00 -0.50\n",
       "3        1    4        side   back of carrier -0.5 -0.50 -0.25\n",
       "4        1    5        side   back of carrier -2.5 -1.00 -0.25\n",
       "5        2    1        side   back of carrier  2.0 -1.00  1.50\n",
       "6        2    2        side   back of carrier  2.0 -1.00  1.00\n",
       "7        2    3        side   back of carrier  1.0 -1.00  1.50\n",
       "8        2    4        side   back of carrier -1.0 -1.25  0.50\n",
       "9        2    5        side   back of carrier -3.0 -2.25  1.25\n",
       "10       1    1       front  front of carrier  3.0  0.00 -0.50\n",
       "11       1    2       front  front of carrier  0.5  0.50 -1.00\n",
       "12       1    3       front  front of carrier  0.5 -1.00 -0.75\n",
       "13       1    4       front  front of carrier -1.5  0.50 -1.00\n",
       "14       1    5       front  front of carrier -4.0 -0.75 -0.75\n",
       "15       1    1       front   back of carrier  2.0  0.00 -1.00\n",
       "16       1    2       front   back of carrier  2.0  0.00 -0.50\n",
       "17       1    3       front   back of carrier  0.0 -0.50 -0.75\n",
       "18       1    4       front   back of carrier -1.0  0.00 -1.25\n",
       "19       1    5       front   back of carrier -3.0 -0.75 -0.50\n",
       "20       2    1       front  front of carrier  2.0 -1.00  0.75\n",
       "21       2    2       front  front of carrier  1.0 -0.75  0.75\n",
       "22       2    3       front  front of carrier -1.0 -1.50  1.00\n",
       "23       2    4       front  front of carrier -1.5 -1.75  0.25\n",
       "24       2    5       front  front of carrier -3.0 -2.00  0.25\n",
       "25       2    1       front   back of carrier  3.5 -0.50  1.50\n",
       "26       2    2       front   back of carrier  2.0 -1.00  0.75\n",
       "27       2    3       front   back of carrier  0.0  1.00  1.00\n",
       "28       2    4       front   back of carrier  1.5  0.00  1.00\n",
       "29       2    5       front   back of carrier -3.0 -1.50  0.50"
      ]
     },
     "execution_count": 123,
     "metadata": {},
     "output_type": "execute_result"
    }
   ],
   "source": [
    "data_raw"
   ]
  },
  {
   "cell_type": "code",
   "execution_count": 125,
   "metadata": {},
   "outputs": [
    {
     "data": {
      "text/html": [
       "<div>\n",
       "<style scoped>\n",
       "    .dataframe tbody tr th:only-of-type {\n",
       "        vertical-align: middle;\n",
       "    }\n",
       "\n",
       "    .dataframe tbody tr th {\n",
       "        vertical-align: top;\n",
       "    }\n",
       "\n",
       "    .dataframe thead th {\n",
       "        text-align: right;\n",
       "    }\n",
       "</style>\n",
       "<table border=\"1\" class=\"dataframe\">\n",
       "  <thead>\n",
       "    <tr style=\"text-align: right;\">\n",
       "      <th></th>\n",
       "      <th>column</th>\n",
       "      <th>row</th>\n",
       "      <th>orientation</th>\n",
       "      <th>depth</th>\n",
       "      <th>X</th>\n",
       "      <th>Y</th>\n",
       "      <th>Z</th>\n",
       "    </tr>\n",
       "  </thead>\n",
       "  <tbody>\n",
       "    <tr>\n",
       "      <th>0</th>\n",
       "      <td>1</td>\n",
       "      <td>1</td>\n",
       "      <td>side</td>\n",
       "      <td>back of carrier</td>\n",
       "      <td>1.5</td>\n",
       "      <td>0.00</td>\n",
       "      <td>-1.00</td>\n",
       "    </tr>\n",
       "    <tr>\n",
       "      <th>1</th>\n",
       "      <td>1</td>\n",
       "      <td>2</td>\n",
       "      <td>side</td>\n",
       "      <td>back of carrier</td>\n",
       "      <td>1.0</td>\n",
       "      <td>0.00</td>\n",
       "      <td>-1.00</td>\n",
       "    </tr>\n",
       "    <tr>\n",
       "      <th>2</th>\n",
       "      <td>1</td>\n",
       "      <td>3</td>\n",
       "      <td>side</td>\n",
       "      <td>back of carrier</td>\n",
       "      <td>0.5</td>\n",
       "      <td>0.00</td>\n",
       "      <td>-0.50</td>\n",
       "    </tr>\n",
       "    <tr>\n",
       "      <th>3</th>\n",
       "      <td>1</td>\n",
       "      <td>4</td>\n",
       "      <td>side</td>\n",
       "      <td>back of carrier</td>\n",
       "      <td>-0.5</td>\n",
       "      <td>-0.50</td>\n",
       "      <td>-0.25</td>\n",
       "    </tr>\n",
       "    <tr>\n",
       "      <th>4</th>\n",
       "      <td>1</td>\n",
       "      <td>5</td>\n",
       "      <td>side</td>\n",
       "      <td>back of carrier</td>\n",
       "      <td>-2.5</td>\n",
       "      <td>-1.00</td>\n",
       "      <td>-0.25</td>\n",
       "    </tr>\n",
       "    <tr>\n",
       "      <th>10</th>\n",
       "      <td>1</td>\n",
       "      <td>1</td>\n",
       "      <td>front</td>\n",
       "      <td>front of carrier</td>\n",
       "      <td>3.0</td>\n",
       "      <td>0.00</td>\n",
       "      <td>-0.50</td>\n",
       "    </tr>\n",
       "    <tr>\n",
       "      <th>11</th>\n",
       "      <td>1</td>\n",
       "      <td>2</td>\n",
       "      <td>front</td>\n",
       "      <td>front of carrier</td>\n",
       "      <td>0.5</td>\n",
       "      <td>0.50</td>\n",
       "      <td>-1.00</td>\n",
       "    </tr>\n",
       "    <tr>\n",
       "      <th>12</th>\n",
       "      <td>1</td>\n",
       "      <td>3</td>\n",
       "      <td>front</td>\n",
       "      <td>front of carrier</td>\n",
       "      <td>0.5</td>\n",
       "      <td>-1.00</td>\n",
       "      <td>-0.75</td>\n",
       "    </tr>\n",
       "    <tr>\n",
       "      <th>13</th>\n",
       "      <td>1</td>\n",
       "      <td>4</td>\n",
       "      <td>front</td>\n",
       "      <td>front of carrier</td>\n",
       "      <td>-1.5</td>\n",
       "      <td>0.50</td>\n",
       "      <td>-1.00</td>\n",
       "    </tr>\n",
       "    <tr>\n",
       "      <th>14</th>\n",
       "      <td>1</td>\n",
       "      <td>5</td>\n",
       "      <td>front</td>\n",
       "      <td>front of carrier</td>\n",
       "      <td>-4.0</td>\n",
       "      <td>-0.75</td>\n",
       "      <td>-0.75</td>\n",
       "    </tr>\n",
       "    <tr>\n",
       "      <th>15</th>\n",
       "      <td>1</td>\n",
       "      <td>1</td>\n",
       "      <td>front</td>\n",
       "      <td>back of carrier</td>\n",
       "      <td>2.0</td>\n",
       "      <td>0.00</td>\n",
       "      <td>-1.00</td>\n",
       "    </tr>\n",
       "    <tr>\n",
       "      <th>16</th>\n",
       "      <td>1</td>\n",
       "      <td>2</td>\n",
       "      <td>front</td>\n",
       "      <td>back of carrier</td>\n",
       "      <td>2.0</td>\n",
       "      <td>0.00</td>\n",
       "      <td>-0.50</td>\n",
       "    </tr>\n",
       "    <tr>\n",
       "      <th>17</th>\n",
       "      <td>1</td>\n",
       "      <td>3</td>\n",
       "      <td>front</td>\n",
       "      <td>back of carrier</td>\n",
       "      <td>0.0</td>\n",
       "      <td>-0.50</td>\n",
       "      <td>-0.75</td>\n",
       "    </tr>\n",
       "    <tr>\n",
       "      <th>18</th>\n",
       "      <td>1</td>\n",
       "      <td>4</td>\n",
       "      <td>front</td>\n",
       "      <td>back of carrier</td>\n",
       "      <td>-1.0</td>\n",
       "      <td>0.00</td>\n",
       "      <td>-1.25</td>\n",
       "    </tr>\n",
       "    <tr>\n",
       "      <th>19</th>\n",
       "      <td>1</td>\n",
       "      <td>5</td>\n",
       "      <td>front</td>\n",
       "      <td>back of carrier</td>\n",
       "      <td>-3.0</td>\n",
       "      <td>-0.75</td>\n",
       "      <td>-0.50</td>\n",
       "    </tr>\n",
       "  </tbody>\n",
       "</table>\n",
       "</div>"
      ],
      "text/plain": [
       "    column  row orientation             depth    X     Y     Z\n",
       "0        1    1        side   back of carrier  1.5  0.00 -1.00\n",
       "1        1    2        side   back of carrier  1.0  0.00 -1.00\n",
       "2        1    3        side   back of carrier  0.5  0.00 -0.50\n",
       "3        1    4        side   back of carrier -0.5 -0.50 -0.25\n",
       "4        1    5        side   back of carrier -2.5 -1.00 -0.25\n",
       "10       1    1       front  front of carrier  3.0  0.00 -0.50\n",
       "11       1    2       front  front of carrier  0.5  0.50 -1.00\n",
       "12       1    3       front  front of carrier  0.5 -1.00 -0.75\n",
       "13       1    4       front  front of carrier -1.5  0.50 -1.00\n",
       "14       1    5       front  front of carrier -4.0 -0.75 -0.75\n",
       "15       1    1       front   back of carrier  2.0  0.00 -1.00\n",
       "16       1    2       front   back of carrier  2.0  0.00 -0.50\n",
       "17       1    3       front   back of carrier  0.0 -0.50 -0.75\n",
       "18       1    4       front   back of carrier -1.0  0.00 -1.25\n",
       "19       1    5       front   back of carrier -3.0 -0.75 -0.50"
      ]
     },
     "execution_count": 125,
     "metadata": {},
     "output_type": "execute_result"
    }
   ],
   "source": [
    "data_front = data_raw[data_raw[\"column\"]==1]\n",
    "data_side = data_raw[data_raw[\"column\"]==2]\n",
    "data_front"
   ]
  },
  {
   "cell_type": "code",
   "execution_count": 129,
   "metadata": {},
   "outputs": [],
   "source": [
    "import matplotlib.pyplot as plt"
   ]
  },
  {
   "cell_type": "code",
   "execution_count": 132,
   "metadata": {},
   "outputs": [],
   "source": [
    "colors_depth = {'front of carrier':'tab:blue', 'back of carrier':'tab:orange'}\n",
    "colors_orient = {'front':'tab:blue', 'side':'tab:orange'}"
   ]
  },
  {
   "cell_type": "code",
   "execution_count": 136,
   "metadata": {},
   "outputs": [],
   "source": [
    "df_left = data_raw[data_raw[\"column\"]==1]\n",
    "df_right = data_raw[data_raw[\"column\"]==2]"
   ]
  },
  {
   "cell_type": "code",
   "execution_count": 137,
   "metadata": {},
   "outputs": [],
   "source": [
    "#data_front.plot.scatter(\"X\",\"Y\",c=\"row\")\n",
    "#data_front.plot.scatter(\"X\",\"Z\",c=\"row\")\n",
    "#data_front.plot.scatter(\"Y\",\"Z\",c=\"row\")\n",
    "\n",
    "#data_side.plot.scatter(\"X\",\"Y\",c=\"row\")\n",
    "#data_side.plot.scatter(\"X\",\"Z\",c=\"row\")\n",
    "def show_lots_of_graphs(df:pd.DataFrame):\n",
    "    df.plot.scatter(\"Y\",\"Z\",c=\"row\",colormap=\"Blues\",vmin=0)\n",
    "    plt.title(\"Row\")\n",
    "    plt.show()\n",
    "    df.plot.scatter(\"Y\",\"Z\",c=\"column\",colormap=\"Blues\",vmin=0)\n",
    "    plt.title(\"Column\")\n",
    "    plt.show()\n",
    "    df.plot.scatter(\"Y\",\"Z\",c=df[\"orientation\"].map(colors_orient))\n",
    "    print(colors_orient)\n",
    "    plt.title(\"Orientation\")\n",
    "    plt.show()\n",
    "    df.plot.scatter(\"Y\",\"Z\",c=df[\"depth\"].map(colors_depth))\n",
    "    print(colors_depth)\n",
    "    plt.title(\"Depth\")\n",
    "    plt.show()"
   ]
  },
  {
   "cell_type": "code",
   "execution_count": 138,
   "metadata": {},
   "outputs": [
    {
     "data": {
      "image/png": "[encoded data removed]",
      "text/plain": [
       "<Figure size 640x480 with 2 Axes>"
      ]
     },
     "metadata": {},
     "output_type": "display_data"
    },
    {
     "data": {
      "image/png": "[encoded data removed]",
      "text/plain": [
       "<Figure size 640x480 with 2 Axes>"
      ]
     },
     "metadata": {},
     "output_type": "display_data"
    },
    {
     "name": "stdout",
     "output_type": "stream",
     "text": [
      "{'front': 'tab:blue', 'side': 'tab:orange'}\n"
     ]
    },
    {
     "data": {
      "image/png": "[encoded data removed]",
      "text/plain": [
       "<Figure size 640x480 with 1 Axes>"
      ]
     },
     "metadata": {},
     "output_type": "display_data"
    },
    {
     "name": "stdout",
     "output_type": "stream",
     "text": [
      "{'front of carrier': 'tab:blue', 'back of carrier': 'tab:orange'}\n"
     ]
    },
    {
     "data": {
      "image/png": "[encoded data removed]",
      "text/plain": [
       "<Figure size 640x480 with 1 Axes>"
      ]
     },
     "metadata": {},
     "output_type": "display_data"
    }
   ],
   "source": [
    "show_lots_of_graphs(data_raw)"
   ]
  },
  {
   "cell_type": "markdown",
   "metadata": {},
   "source": [
    "2nd row way right side\n",
    "1.5 too back, 2 too right, 1 too high\n",
    "2nd row way left side\n",
    "front/back good, 2 too right, 1 too low"
   ]
  },
  {
   "cell_type": "code",
   "execution_count": 139,
   "metadata": {},
   "outputs": [
    {
     "data": {
      "image/png": "[encoded data removed]",
      "text/plain": [
       "<Figure size 640x480 with 2 Axes>"
      ]
     },
     "metadata": {},
     "output_type": "display_data"
    },
    {
     "data": {
      "image/png": "[encoded data removed]",
      "text/plain": [
       "<Figure size 640x480 with 2 Axes>"
      ]
     },
     "metadata": {},
     "output_type": "display_data"
    },
    {
     "name": "stdout",
     "output_type": "stream",
     "text": [
      "{'front': 'tab:blue', 'side': 'tab:orange'}\n"
     ]
    },
    {
     "data": {
      "image/png": "[encoded data removed]",
      "text/plain": [
       "<Figure size 640x480 with 1 Axes>"
      ]
     },
     "metadata": {},
     "output_type": "display_data"
    },
    {
     "name": "stdout",
     "output_type": "stream",
     "text": [
      "{'front of carrier': 'tab:blue', 'back of carrier': 'tab:orange'}\n"
     ]
    },
    {
     "data": {
      "image/png": "[encoded data removed]",
      "text/plain": [
       "<Figure size 640x480 with 1 Axes>"
      ]
     },
     "metadata": {},
     "output_type": "display_data"
    }
   ],
   "source": [
    "show_lots_of_graphs(df_left)"
   ]
  },
  {
   "cell_type": "code",
   "execution_count": 22,
   "metadata": {},
   "outputs": [
    {
     "name": "stdout",
     "output_type": "stream",
     "text": [
      "0.04347826086956516\n",
      "0.009782608695652256\n"
     ]
    },
    {
     "data": {
      "text/plain": [
       "[-0.275, -1, 1.0097826086956523]"
      ]
     },
     "execution_count": 22,
     "metadata": {},
     "output_type": "execute_result"
    }
   ],
   "source": [
    "def apply_vision_offset(coords):\n",
    "    def apply_z_offset(coords):\n",
    "        x_top = 0.3\n",
    "        x_bot = -0.275\n",
    "        x_range = x_top - x_bot\n",
    "        scaling_factor = (coords[0]+x_top) / x_range\n",
    "        print(scaling_factor)\n",
    "        value_to_add = 0.075 - (scaling_factor * 1.5)\n",
    "        print(value_to_add)\n",
    "        \n",
    "        return value_to_add\n",
    "    coords[2] += apply_z_offset(coords)\n",
    "    return coords\n",
    "\n",
    "coords = [-0.275,-1,1]\n",
    "coords = apply_vision_offset(coords)\n",
    "    #coords[0] += 0.03\n",
    "    #coords[1] += 0.0475\n",
    "    #coords[2] += -0.135\n",
    "coords"
   ]
  },
  {
   "cell_type": "code",
   "execution_count": 12,
   "metadata": {},
   "outputs": [
    {
     "data": {
      "text/plain": [
       "0.6521739130434783"
      ]
     },
     "execution_count": 12,
     "metadata": {},
     "output_type": "execute_result"
    }
   ],
   "source": [
    "max_value_a = 3\n",
    "min_value_a = -1\n",
    "max_value_b = 0.75\n",
    "min_value_b = -0.25\n",
    "\n",
    "value_a = 2 -> value_b = 0.5\n",
    "\n",
    "\n",
    "norm_value = (value_a-min_value_a)/(max_value_a-min_value_a)\n",
    "norm_value"
   ]
  },
  {
   "cell_type": "code",
   "execution_count": 44,
   "metadata": {},
   "outputs": [
    {
     "name": "stdout",
     "output_type": "stream",
     "text": [
      "[-0.275, -1, 1]\n",
      "-0.275\n",
      "[-0.275, -1, 0.925]\n"
     ]
    }
   ],
   "source": [
    "def apply_z_offset(coords):\n",
    "    # Ensure that the input value is within the specified range\n",
    "    in_max = 0.3\n",
    "    in_min = -0.275\n",
    "    out_max = 0.075\n",
    "    out_min = -0.075\n",
    "    value = max(min(coords[0], in_max), in_min)\n",
    "\n",
    "    # Perform the linear interpolation\n",
    "    new_z = (value - in_min) / (in_max - in_min) * (out_max - out_min) + out_min\n",
    "    return new_z\n",
    "\n",
    "coords=[-0.275,-1,1]\n",
    "print(coords)\n",
    "coords[2] += map_range(coords)\n",
    "print(coords)"
   ]
  },
  {
   "cell_type": "code",
   "execution_count": 9,
   "metadata": {},
   "outputs": [
    {
     "name": "stdout",
     "output_type": "stream",
     "text": [
      "0.0075\n"
     ]
    },
    {
     "data": {
      "text/plain": [
       "[-0.275, -0.9625, 1.0075]"
      ]
     },
     "execution_count": 9,
     "metadata": {},
     "output_type": "execute_result"
    }
   ],
   "source": [
    "def apply_vision_offset(coords):\n",
    "    def apply_z_offset(coords):\n",
    "        # Ensure that the input value is within the specified range\n",
    "        in_max = 0.3\n",
    "        in_min = -0.275\n",
    "        out_max = -0.0075\n",
    "        out_min = 0.0075\n",
    "        value = max(min(coords[0], in_max), in_min)\n",
    "        # Perform the linear interpolation\n",
    "        z_offset = (value - in_min) / (in_max - in_min) * (out_max - out_min) + out_min\n",
    "        print(z_offset)\n",
    "        return z_offset\n",
    "        \n",
    "    return coords\n",
    "\n",
    "coords = [-0.305,-1,1]\n",
    "coords = apply_vision_offset(coords)\n",
    "coords"
   ]
  },
  {
   "cell_type": "code",
   "execution_count": 1,
   "metadata": {},
   "outputs": [],
   "source": [
    "import numpy as np\n",
    "from scipy.spatial.transform import Rotation as R"
   ]
  },
  {
   "cell_type": "code",
   "execution_count": 35,
   "metadata": {},
   "outputs": [
    {
     "name": "stdout",
     "output_type": "stream",
     "text": [
      "[[ 2.   2.   nan]\n",
      " [ 2.   2.  -0.3]\n",
      " [ 3.   1.  -0.4]\n",
      " [ 1.   3.  -0.5]]\n",
      "-0.39999999999999997\n"
     ]
    }
   ],
   "source": [
    "a = np.array([[2, 2, np.nan],\n",
    "     [2, 2, -0.3],\n",
    "     [3, 1, -0.4],\n",
    "     [1, 3, -0.5]])\n",
    "print(a)\n",
    "\n",
    "for x_2d, y_2d, depth in a:\n",
    "    if np.isnan(depth):\n",
    "        depth = np.nanmean(a[:,2])\n",
    "        print(depth)"
   ]
  },
  {
   "cell_type": "code",
   "execution_count": 4,
   "metadata": {},
   "outputs": [
    {
     "data": {
      "text/plain": [
       "True"
      ]
     },
     "execution_count": 4,
     "metadata": {},
     "output_type": "execute_result"
    }
   ],
   "source": [
    "def are_coords_within_tolerance(current_pos,goal_pos, tolerance):\n",
    "    return all(\n",
    "        abs(coord - goal_coord) <= tolerance for coord, goal_coord in zip(current_pos,goal_pos)\n",
    "    )\n",
    "\n",
    "current_coords = [0,0,0,0,0,0]\n",
    "goal_coords = [-0.01, 0.01, 0.01, 0.01, 0, 0]\n",
    "\n",
    "are_coords_within_tolerance(current_coords[:3], goal_coords[:3], 0.01)"
   ]
  },
  {
   "cell_type": "code",
   "execution_count": 20,
   "metadata": {},
   "outputs": [],
   "source": [
    "def calculate_rotational_angles(plane_coordinates):\n",
    "    # Extracting the coordinates of the plane\n",
    "    #base_angles = (1.2,-1.2,1.2)\n",
    "    p1, p2, p3, p4 = plane_coordinates #(x,y,z)\n",
    "\n",
    "    d12 = np.array(p2) - np.array(p1)\n",
    "    d13 = np.array(p3) - np.array(p1)\n",
    "    dz = np.cross(d12, d13)\n",
    "\n",
    "    X = d12 / np.linalg.norm(d12)\n",
    "    Z = dz / np.linalg.norm(dz)\n",
    "    Y = np.cross(X,Z)\n",
    "\n",
    "    rot = np.column_stack((X,Y,Z))\n",
    "    angles = R.from_matrix(rot).as_rotvec(degrees=False)\n",
    "    #corrected_angles = angles + base_angles\n",
    "\n",
    "    return angles\n",
    "\n",
    "def get_robot_coords(camera_coords):\n",
    "    R = np.array([[0.98965,0.14059,-0.028841],\n",
    "                [-0.14345,0.97505,-0.16939],\n",
    "                [0.0043076,0.17177,0.98513]])\n",
    "    t = np.array([0.18212,0.11633,0.38649])\n",
    "    new_coords = np.dot(R,camera_coords) + t\n",
    "    return new_coords"
   ]
  },
  {
   "cell_type": "code",
   "execution_count": 55,
   "metadata": {},
   "outputs": [
    {
     "data": {
      "text/plain": [
       "array([-1.61409518e-02, -8.88319306e-04, -3.12952513e+00])"
      ]
     },
     "execution_count": 55,
     "metadata": {},
     "output_type": "execute_result"
    }
   ],
   "source": [
    "est_coords = []\n",
    "act_coords = []\n",
    "\n",
    "test_points = [[0.13364, -0.9771, -0.05886],\n",
    "                [-0.24706, -1.0548, -0.06304],\n",
    "                [0.1358, -0.98053, -0.28347],\n",
    "                [-0.24302, -1.0481, -0.31054]]\n",
    "\n",
    "robot_coords = []\n",
    "for coord in test_points:\n",
    "    rob_coord = get_robot_coords(coord)\n",
    "    robot_coords.append(rob_coord)\n",
    "\n",
    "calculate_rotational_angles(robot_coords)"
   ]
  },
  {
   "cell_type": "markdown",
   "metadata": {},
   "source": [
    "rx: tilt side (?)\n",
    "ry: up/down\n",
    "rz: left/right(?)"
   ]
  },
  {
   "cell_type": "code",
   "execution_count": 8,
   "metadata": {},
   "outputs": [],
   "source": [
    "goal_angles = {\n",
    "    \"left_higher\": [1.1169, -1.4910, 1.4262],\n",
    "    \"left_front\": [1.5727, -0.8662, 1.7054],\n",
    "}"
   ]
  },
  {
   "cell_type": "code",
   "execution_count": 46,
   "metadata": {},
   "outputs": [
    {
     "data": {
      "text/plain": [
       "array([ 1.20919958, -1.20919958,  1.20919958])"
      ]
     },
     "execution_count": 46,
     "metadata": {},
     "output_type": "execute_result"
    }
   ],
   "source": [
    "test_coords = [[1,0,0],\n",
    "               [1,0,1],\n",
    "               [2,0,0],\n",
    "               None]\n",
    "\n",
    "-calculate_rotational_angles(test_coords)"
   ]
  },
  {
   "cell_type": "code",
   "execution_count": 14,
   "metadata": {},
   "outputs": [
    {
     "data": {
      "text/plain": [
       "array([-1.20919958, -1.20919958, -1.20919958])"
      ]
     },
     "execution_count": 14,
     "metadata": {},
     "output_type": "execute_result"
    }
   ],
   "source": [
    "test_points = [[0.13364, -0.9771, -0.05886],\n",
    "                [-0.24706, -1.0548, -0.06304],\n",
    "                [0.1358, -0.98053, -0.28347],\n",
    "                [-0.24302, -1.0481, -0.31054]]\n",
    "\n",
    "test_coords = [[0,0,0],\n",
    "               [0,0,1],\n",
    "               [1,0,0],\n",
    "               None]\n",
    "\n",
    "def calculate_rotational_angles(test_points):\n",
    "    p1, p2, p3, p4 = test_points #(x,y,z)\n",
    "\n",
    "    d12 = np.array(p2) - np.array(p1)\n",
    "    d13 = np.array(p3) - np.array(p1)\n",
    "    dz = np.cross(d12, d13)\n",
    "\n",
    "    X = d12 / np.linalg.norm(d12)\n",
    "    Z = dz / np.linalg.norm(dz)\n",
    "    Y = np.cross(X,Z)\n",
    "\n",
    "    rot = np.column_stack((d12,d13,dz))\n",
    "    angles = R.from_matrix(rot).as_rotvec(degrees=False)\n",
    "\n",
    "    return angles\n",
    "\n",
    "calculate_rotational_angles(test_coords)"
   ]
  }
 ],
 "metadata": {
  "kernelspec": {
   "display_name": ".venv",
   "language": "python",
   "name": "python3"
  },
  "language_info": {
   "codemirror_mode": {
    "name": "ipython",
    "version": 3
   },
   "file_extension": ".py",
   "mimetype": "text/x-python",
   "name": "python",
   "nbconvert_exporter": "python",
   "pygments_lexer": "ipython3",
   "version": "3.10.11"
  }
 },
 "nbformat": 4,
 "nbformat_minor": 2
}

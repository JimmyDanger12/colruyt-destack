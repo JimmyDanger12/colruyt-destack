{
 "cells": [
  {
   "cell_type": "code",
   "execution_count": 1,
   "metadata": {},
   "outputs": [],
   "source": [
    "import urx"
   ]
  },
  {
   "cell_type": "code",
   "execution_count": 9,
   "metadata": {},
   "outputs": [
    {
     "name": "stdout",
     "output_type": "stream",
     "text": [
      "Tpose: <Transform: RV(1.200, -1.200, 1.200) P(-0.055, -0.708, 0.331)>\n",
      "[-0.055, -0.708, 0.331, 1.2, -1.2, 1.2, 0.1, 0.1, 0]\n",
      "movel(p[-0.055,-0.708,0.331,1.2,-1.2,1.2], a=0.1, v=0.1, r=0)\n",
      "get_dist_done\n"
     ]
    },
    {
     "data": {
      "text/plain": [
       "'rob.movel_tool(trans,\\n            acc=0.1,\\n            vel=0.1)'"
      ]
     },
     "execution_count": 9,
     "metadata": {},
     "output_type": "execute_result"
    }
   ],
   "source": [
    "ip = \"192.168.137.5\"\n",
    "rob = urx.Robot(ip)\n",
    "\n",
    "rob.set_tcp([0, 0.02, 0.1095, 0, 0, 0])\n",
    "trans = [0,0,0,0,0.2,0]\n",
    "\n",
    "\"\"\"rob.movel([-0.055, -0.708, 0.331, 1.2, -1.2, 1.2],\n",
    "          acc=0.1,\n",
    "          vel=0.1)\"\"\"\n",
    "rob.movel_tool(trans,\n",
    "            acc=0.1,\n",
    "            vel=0.1)"
   ]
  }
 ],
 "metadata": {
  "kernelspec": {
   "display_name": ".venv",
   "language": "python",
   "name": "python3"
  },
  "language_info": {
   "codemirror_mode": {
    "name": "ipython",
    "version": 3
   },
   "file_extension": ".py",
   "mimetype": "text/x-python",
   "name": "python",
   "nbconvert_exporter": "python",
   "pygments_lexer": "ipython3",
   "version": "3.10.11"
  }
 },
 "nbformat": 4,
 "nbformat_minor": 2
}

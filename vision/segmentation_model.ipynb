{
 "cells": [
  {
   "cell_type": "code",
   "execution_count": null,
   "metadata": {},
   "outputs": [],
   "source": [
    "from ultralytics import YOLO\n",
    "import cv2\n",
    "from PIL import Image\n",
    "import pyrealsense2 as rs\n",
    "import numpy as np"
   ]
  },
  {
   "cell_type": "code",
   "execution_count": null,
   "metadata": {},
   "outputs": [],
   "source": [
    "TRAIN = False\n",
    "PATH = \"data/no-bars_no-classes\""
   ]
  },
  {
   "cell_type": "code",
   "execution_count": null,
   "metadata": {},
   "outputs": [],
   "source": [
    "if TRAIN:\n",
    "    model = YOLO(\"yolov8s-seg.pt\", task=\"segment\")\n",
    "\n",
    "    EPOCHS = 80\n",
    "    PATIENCE = 10\n",
    "    BATCH_SIZE = 8\n",
    "    IMG_SIZE = 640\n",
    "    OPTIMIZER = \"AdamW\"\n",
    "    LR = 0.002\n",
    "    SEED = 42\n",
    "\n",
    "    model.train(data=PATH+\"/data.yaml\",\n",
    "                epochs=EPOCHS,\n",
    "                imgsz=IMG_SIZE,\n",
    "                optimizer=OPTIMIZER,\n",
    "                lr0=LR,\n",
    "                patience=PATIENCE,\n",
    "                batch=BATCH_SIZE,\n",
    "                seed=SEED)"
   ]
  },
  {
   "cell_type": "code",
   "execution_count": null,
   "metadata": {},
   "outputs": [],
   "source": [
    "if not TRAIN:\n",
    "    model = YOLO(\"runs/segment/train4/weights/best.pt\",task=\"detect\")"
   ]
  },
  {
   "cell_type": "code",
   "execution_count": null,
   "metadata": {},
   "outputs": [],
   "source": [
    "metrics = model.val(split=\"test\")"
   ]
  },
  {
   "cell_type": "code",
   "execution_count": null,
   "metadata": {},
   "outputs": [],
   "source": [
    "results = model.predict(source=PATH+\"/test/images\",\n",
    "                        save=False,\n",
    "                        conf=0.5,\n",
    "                        save_crop=True,\n",
    "                        project=\"crops\")"
   ]
  },
  {
   "cell_type": "code",
   "execution_count": null,
   "metadata": {},
   "outputs": [],
   "source": [
    "for r in results:\n",
    "    im_array = r.plot()\n",
    "    im = Image.fromarray(im_array[..., ::-1])\n",
    "    im.show()"
   ]
  }
 ],
 "metadata": {
  "language_info": {
   "name": "python"
  }
 },
 "nbformat": 4,
 "nbformat_minor": 2
}

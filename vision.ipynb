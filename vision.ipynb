{
 "cells": [
  {
   "cell_type": "code",
   "execution_count": 1,
   "metadata": {},
   "outputs": [
    {
     "name": "stdout",
     "output_type": "stream",
     "text": [
      "WARNING:tensorflow:From c:\\Users\\simon\\OneDrive\\Schule\\2023_WS\\THUAS\\colruyt\\colruyt-destack\\.venv\\lib\\site-packages\\keras\\src\\losses.py:2976: The name tf.losses.sparse_softmax_cross_entropy is deprecated. Please use tf.compat.v1.losses.sparse_softmax_cross_entropy instead.\n",
      "\n"
     ]
    }
   ],
   "source": [
    "import cv2\n",
    "from PIL import Image, ImageDraw, ImageFont\n",
    "import pyrealsense2 as rs\n",
    "import numpy as np\n",
    "from vision.classification_model import ClassificationModel\n",
    "from vision.segmentation_model import SegmentationModel\n",
    "# from vision.vision_models import SegmentationModel, ClassificationModel\n",
    "import keras\n",
    "import matplotlib.pyplot as plt\n",
    "import time\n",
    "import math"
   ]
  },
  {
   "cell_type": "code",
   "execution_count": 2,
   "metadata": {},
   "outputs": [],
   "source": [
    "IMG_SIZE = \"img_size\"\n",
    "BATCH_SIZE = \"batch_size\"\n",
    "OPTIMIZER = \"optimizer\"\n",
    "EPOCHS = \"epochs\"\n",
    "LOSS = \"loss\"\n",
    "METRICS = \"metrics\"\n",
    "LEARNING_RATE = \"learning_rate\"\n",
    "PATIENCE = \"patience\"\n",
    "CALLBACKS = \"callbacks\"\n",
    "PATH = \"path\""
   ]
  },
  {
   "cell_type": "markdown",
   "metadata": {},
   "source": [
    "### TODO:\n",
    "\n",
    "- Combine into pipeline\n",
    "- time steps\n",
    "- Test camera depth \n",
    "\n",
    "### Questions:\n",
    "- 3D integration(depth map)\n",
    "- best method for pickup location (3d edge)"
   ]
  },
  {
   "cell_type": "markdown",
   "metadata": {},
   "source": [
    "#### Guus vision Notes\n",
    "\n",
    "- Segmentation results -> rectangle fit\n",
    "- get edges -> diagonals\n",
    "- go to nearest edge -> closest top"
   ]
  },
  {
   "cell_type": "markdown",
   "metadata": {},
   "source": [
    "# Segmentation Model\n",
    "\n",
    "This model is responsible for extracting crate front segments out of the picture of the entire carrier. These crops are then saved and forwarded to the classification model, as well as used for the pickup-point calculation."
   ]
  },
  {
   "cell_type": "code",
   "execution_count": 14,
   "metadata": {},
   "outputs": [],
   "source": [
    "segment_model = SegmentationModel()"
   ]
  },
  {
   "cell_type": "code",
   "execution_count": 17,
   "metadata": {},
   "outputs": [],
   "source": [
    "seg_params = {\n",
    "    PATH: \"./vision/data/no-bars_no-classes_v2/data.yaml\",\n",
    "    IMG_SIZE: 640,\n",
    "    OPTIMIZER: \"AdamW\",\n",
    "    LEARNING_RATE: 0.0015,\n",
    "    EPOCHS: 80,\n",
    "    BATCH_SIZE: 8,\n",
    "    PATIENCE: 10\n",
    "}"
   ]
  },
  {
   "cell_type": "code",
   "execution_count": 13,
   "metadata": {},
   "outputs": [],
   "source": [
    "#load previously trained model\n",
    "segment_model.load_model()"
   ]
  },
  {
   "cell_type": "code",
   "execution_count": 18,
   "metadata": {},
   "outputs": [
    {
     "name": "stdout",
     "output_type": "stream",
     "text": [
      "Ultralytics YOLOv8.0.227 🚀 Python-3.10.11 torch-2.1.1+cpu CPU (11th Gen Intel Core(TM) i7-1165G7 2.80GHz)\n",
      "\u001b[34m\u001b[1mengine\\trainer: \u001b[0mtask=segment, mode=train, model=vision/yolov8s-seg.pt, data=./vision/data/no-bars_no-classes/data.yaml/data.yaml, epochs=80, patience=10, batch=8, imgsz=640, save=True, save_period=-1, cache=False, device=None, workers=8, project=None, name=train20, exist_ok=False, pretrained=True, optimizer=AdamW, verbose=True, seed=0, deterministic=True, single_cls=False, rect=False, cos_lr=False, close_mosaic=10, resume=False, amp=True, fraction=1.0, profile=False, freeze=None, overlap_mask=True, mask_ratio=4, dropout=0.0, val=True, split=val, save_json=False, save_hybrid=False, conf=None, iou=0.7, max_det=300, half=False, dnn=False, plots=True, source=None, vid_stride=1, stream_buffer=False, visualize=False, augment=False, agnostic_nms=False, classes=None, retina_masks=True, show=False, save_frames=False, save_txt=False, save_conf=False, save_crop=False, show_labels=True, show_conf=True, show_boxes=True, line_width=None, format=torchscript, keras=False, optimize=False, int8=False, dynamic=False, simplify=False, opset=None, workspace=4, nms=False, lr0=0.0015, lrf=0.01, momentum=0.937, weight_decay=0.0005, warmup_epochs=3.0, warmup_momentum=0.8, warmup_bias_lr=0.1, box=7.5, cls=0.5, dfl=1.5, pose=12.0, kobj=1.0, label_smoothing=0.0, nbs=64, hsv_h=0.015, hsv_s=0.7, hsv_v=0.4, degrees=0.0, translate=0.1, scale=0.5, shear=0.0, perspective=0.0, flipud=0.0, fliplr=0.5, mosaic=1.0, mixup=0.0, copy_paste=0.0, cfg=None, tracker=botsort.yaml, save_dir=runs\\segment\\train20\n"
     ]
    },
    {
     "ename": "RuntimeError",
     "evalue": "Dataset 'vision/data/no-bars_no-classes/data.yaml/data.yaml' error  './vision/data/no-bars_no-classes/data.yaml/data.yaml' does not exist",
     "output_type": "error",
     "traceback": [
      "\u001b[1;31m---------------------------------------------------------------------------\u001b[0m",
      "\u001b[1;31mFileNotFoundError\u001b[0m                         Traceback (most recent call last)",
      "File \u001b[1;32mc:\\Users\\simon\\OneDrive\\Schule\\2023_WS\\THUAS\\colruyt\\colruyt-destack\\.venv\\lib\\site-packages\\ultralytics\\engine\\trainer.py:116\u001b[0m, in \u001b[0;36mBaseTrainer.__init__\u001b[1;34m(self, cfg, overrides, _callbacks)\u001b[0m\n\u001b[0;32m    115\u001b[0m \u001b[38;5;28;01melif\u001b[39;00m \u001b[38;5;28mself\u001b[39m\u001b[38;5;241m.\u001b[39margs\u001b[38;5;241m.\u001b[39mdata\u001b[38;5;241m.\u001b[39msplit(\u001b[38;5;124m'\u001b[39m\u001b[38;5;124m.\u001b[39m\u001b[38;5;124m'\u001b[39m)[\u001b[38;5;241m-\u001b[39m\u001b[38;5;241m1\u001b[39m] \u001b[38;5;129;01min\u001b[39;00m (\u001b[38;5;124m'\u001b[39m\u001b[38;5;124myaml\u001b[39m\u001b[38;5;124m'\u001b[39m, \u001b[38;5;124m'\u001b[39m\u001b[38;5;124myml\u001b[39m\u001b[38;5;124m'\u001b[39m) \u001b[38;5;129;01mor\u001b[39;00m \u001b[38;5;28mself\u001b[39m\u001b[38;5;241m.\u001b[39margs\u001b[38;5;241m.\u001b[39mtask \u001b[38;5;129;01min\u001b[39;00m (\u001b[38;5;124m'\u001b[39m\u001b[38;5;124mdetect\u001b[39m\u001b[38;5;124m'\u001b[39m, \u001b[38;5;124m'\u001b[39m\u001b[38;5;124msegment\u001b[39m\u001b[38;5;124m'\u001b[39m, \u001b[38;5;124m'\u001b[39m\u001b[38;5;124mpose\u001b[39m\u001b[38;5;124m'\u001b[39m):\n\u001b[1;32m--> 116\u001b[0m     \u001b[38;5;28mself\u001b[39m\u001b[38;5;241m.\u001b[39mdata \u001b[38;5;241m=\u001b[39m \u001b[43mcheck_det_dataset\u001b[49m\u001b[43m(\u001b[49m\u001b[38;5;28;43mself\u001b[39;49m\u001b[38;5;241;43m.\u001b[39;49m\u001b[43margs\u001b[49m\u001b[38;5;241;43m.\u001b[39;49m\u001b[43mdata\u001b[49m\u001b[43m)\u001b[49m\n\u001b[0;32m    117\u001b[0m     \u001b[38;5;28;01mif\u001b[39;00m \u001b[38;5;124m'\u001b[39m\u001b[38;5;124myaml_file\u001b[39m\u001b[38;5;124m'\u001b[39m \u001b[38;5;129;01min\u001b[39;00m \u001b[38;5;28mself\u001b[39m\u001b[38;5;241m.\u001b[39mdata:\n",
      "File \u001b[1;32mc:\\Users\\simon\\OneDrive\\Schule\\2023_WS\\THUAS\\colruyt\\colruyt-destack\\.venv\\lib\\site-packages\\ultralytics\\data\\utils.py:253\u001b[0m, in \u001b[0;36mcheck_det_dataset\u001b[1;34m(dataset, autodownload)\u001b[0m\n\u001b[0;32m    238\u001b[0m \u001b[38;5;250m\u001b[39m\u001b[38;5;124;03m\"\"\"\u001b[39;00m\n\u001b[0;32m    239\u001b[0m \u001b[38;5;124;03mDownload, verify, and/or unzip a dataset if not found locally.\u001b[39;00m\n\u001b[0;32m    240\u001b[0m \n\u001b[1;32m   (...)\u001b[0m\n\u001b[0;32m    250\u001b[0m \u001b[38;5;124;03m    (dict): Parsed dataset information and paths.\u001b[39;00m\n\u001b[0;32m    251\u001b[0m \u001b[38;5;124;03m\"\"\"\u001b[39;00m\n\u001b[1;32m--> 253\u001b[0m file \u001b[38;5;241m=\u001b[39m \u001b[43mcheck_file\u001b[49m\u001b[43m(\u001b[49m\u001b[43mdataset\u001b[49m\u001b[43m)\u001b[49m\n\u001b[0;32m    255\u001b[0m \u001b[38;5;66;03m# Download (optional)\u001b[39;00m\n",
      "File \u001b[1;32mc:\\Users\\simon\\OneDrive\\Schule\\2023_WS\\THUAS\\colruyt\\colruyt-destack\\.venv\\lib\\site-packages\\ultralytics\\utils\\checks.py:460\u001b[0m, in \u001b[0;36mcheck_file\u001b[1;34m(file, suffix, download, hard)\u001b[0m\n\u001b[0;32m    459\u001b[0m \u001b[38;5;28;01mif\u001b[39;00m \u001b[38;5;129;01mnot\u001b[39;00m files \u001b[38;5;129;01mand\u001b[39;00m hard:\n\u001b[1;32m--> 460\u001b[0m     \u001b[38;5;28;01mraise\u001b[39;00m \u001b[38;5;167;01mFileNotFoundError\u001b[39;00m(\u001b[38;5;124mf\u001b[39m\u001b[38;5;124m\"\u001b[39m\u001b[38;5;124m'\u001b[39m\u001b[38;5;132;01m{\u001b[39;00mfile\u001b[38;5;132;01m}\u001b[39;00m\u001b[38;5;124m'\u001b[39m\u001b[38;5;124m does not exist\u001b[39m\u001b[38;5;124m\"\u001b[39m)\n\u001b[0;32m    461\u001b[0m \u001b[38;5;28;01melif\u001b[39;00m \u001b[38;5;28mlen\u001b[39m(files) \u001b[38;5;241m>\u001b[39m \u001b[38;5;241m1\u001b[39m \u001b[38;5;129;01mand\u001b[39;00m hard:\n",
      "\u001b[1;31mFileNotFoundError\u001b[0m: './vision/data/no-bars_no-classes/data.yaml/data.yaml' does not exist",
      "\nThe above exception was the direct cause of the following exception:\n",
      "\u001b[1;31mRuntimeError\u001b[0m                              Traceback (most recent call last)",
      "Cell \u001b[1;32mIn[18], line 2\u001b[0m\n\u001b[0;32m      1\u001b[0m \u001b[38;5;66;03m#train model\u001b[39;00m\n\u001b[1;32m----> 2\u001b[0m \u001b[43msegment_model\u001b[49m\u001b[38;5;241;43m.\u001b[39;49m\u001b[43mtrain\u001b[49m\u001b[43m(\u001b[49m\u001b[43mseg_params\u001b[49m\u001b[43m)\u001b[49m\n",
      "File \u001b[1;32mc:\\Users\\simon\\OneDrive\\Schule\\2023_WS\\THUAS\\colruyt\\colruyt-destack\\vision\\segmentation_model.py:35\u001b[0m, in \u001b[0;36mSegmentationModel.train\u001b[1;34m(self, params)\u001b[0m\n\u001b[0;32m     32\u001b[0m \u001b[38;5;28;01mif\u001b[39;00m \u001b[38;5;129;01mnot\u001b[39;00m \u001b[38;5;28mself\u001b[39m\u001b[38;5;241m.\u001b[39mmodel:\n\u001b[0;32m     33\u001b[0m     \u001b[38;5;28mself\u001b[39m\u001b[38;5;241m.\u001b[39mreset_model()\n\u001b[1;32m---> 35\u001b[0m \u001b[38;5;28;43mself\u001b[39;49m\u001b[38;5;241;43m.\u001b[39;49m\u001b[43mmodel\u001b[49m\u001b[38;5;241;43m.\u001b[39;49m\u001b[43mtrain\u001b[49m\u001b[43m(\u001b[49m\u001b[43mdata\u001b[49m\u001b[38;5;241;43m=\u001b[39;49m\u001b[43mpath\u001b[49m\u001b[38;5;241;43m+\u001b[39;49m\u001b[38;5;124;43m\"\u001b[39;49m\u001b[38;5;124;43m/data.yaml\u001b[39;49m\u001b[38;5;124;43m\"\u001b[39;49m\u001b[43m,\u001b[49m\n\u001b[0;32m     36\u001b[0m \u001b[43m                 \u001b[49m\u001b[43mimgsz\u001b[49m\u001b[38;5;241;43m=\u001b[39;49m\u001b[43mimage_size\u001b[49m\u001b[43m,\u001b[49m\n\u001b[0;32m     37\u001b[0m \u001b[43m                 \u001b[49m\u001b[43mepochs\u001b[49m\u001b[38;5;241;43m=\u001b[39;49m\u001b[43mepochs\u001b[49m\u001b[43m,\u001b[49m\n\u001b[0;32m     38\u001b[0m \u001b[43m                 \u001b[49m\u001b[43mbatch\u001b[49m\u001b[38;5;241;43m=\u001b[39;49m\u001b[43mbatch_size\u001b[49m\u001b[43m,\u001b[49m\n\u001b[0;32m     39\u001b[0m \u001b[43m                 \u001b[49m\u001b[43moptimizer\u001b[49m\u001b[38;5;241;43m=\u001b[39;49m\u001b[43moptimizer\u001b[49m\u001b[43m,\u001b[49m\n\u001b[0;32m     40\u001b[0m \u001b[43m                 \u001b[49m\u001b[43mlr0\u001b[49m\u001b[38;5;241;43m=\u001b[39;49m\u001b[43mlr\u001b[49m\u001b[43m,\u001b[49m\n\u001b[0;32m     41\u001b[0m \u001b[43m                 \u001b[49m\u001b[43mpatience\u001b[49m\u001b[38;5;241;43m=\u001b[39;49m\u001b[43mpatience\u001b[49m\u001b[43m,\u001b[49m\n\u001b[0;32m     42\u001b[0m \u001b[43m                 \u001b[49m\u001b[43mretina_masks\u001b[49m\u001b[38;5;241;43m=\u001b[39;49m\u001b[38;5;28;43;01mTrue\u001b[39;49;00m\u001b[43m)\u001b[49m\n",
      "File \u001b[1;32mc:\\Users\\simon\\OneDrive\\Schule\\2023_WS\\THUAS\\colruyt\\colruyt-destack\\.venv\\lib\\site-packages\\ultralytics\\engine\\model.py:333\u001b[0m, in \u001b[0;36mModel.train\u001b[1;34m(self, trainer, **kwargs)\u001b[0m\n\u001b[0;32m    330\u001b[0m \u001b[38;5;28;01mif\u001b[39;00m args\u001b[38;5;241m.\u001b[39mget(\u001b[38;5;124m'\u001b[39m\u001b[38;5;124mresume\u001b[39m\u001b[38;5;124m'\u001b[39m):\n\u001b[0;32m    331\u001b[0m     args[\u001b[38;5;124m'\u001b[39m\u001b[38;5;124mresume\u001b[39m\u001b[38;5;124m'\u001b[39m] \u001b[38;5;241m=\u001b[39m \u001b[38;5;28mself\u001b[39m\u001b[38;5;241m.\u001b[39mckpt_path\n\u001b[1;32m--> 333\u001b[0m \u001b[38;5;28mself\u001b[39m\u001b[38;5;241m.\u001b[39mtrainer \u001b[38;5;241m=\u001b[39m \u001b[43m(\u001b[49m\u001b[43mtrainer\u001b[49m\u001b[43m \u001b[49m\u001b[38;5;129;43;01mor\u001b[39;49;00m\u001b[43m \u001b[49m\u001b[38;5;28;43mself\u001b[39;49m\u001b[38;5;241;43m.\u001b[39;49m\u001b[43m_smart_load\u001b[49m\u001b[43m(\u001b[49m\u001b[38;5;124;43m'\u001b[39;49m\u001b[38;5;124;43mtrainer\u001b[39;49m\u001b[38;5;124;43m'\u001b[39;49m\u001b[43m)\u001b[49m\u001b[43m)\u001b[49m\u001b[43m(\u001b[49m\u001b[43moverrides\u001b[49m\u001b[38;5;241;43m=\u001b[39;49m\u001b[43margs\u001b[49m\u001b[43m,\u001b[49m\u001b[43m \u001b[49m\u001b[43m_callbacks\u001b[49m\u001b[38;5;241;43m=\u001b[39;49m\u001b[38;5;28;43mself\u001b[39;49m\u001b[38;5;241;43m.\u001b[39;49m\u001b[43mcallbacks\u001b[49m\u001b[43m)\u001b[49m\n\u001b[0;32m    334\u001b[0m \u001b[38;5;28;01mif\u001b[39;00m \u001b[38;5;129;01mnot\u001b[39;00m args\u001b[38;5;241m.\u001b[39mget(\u001b[38;5;124m'\u001b[39m\u001b[38;5;124mresume\u001b[39m\u001b[38;5;124m'\u001b[39m):  \u001b[38;5;66;03m# manually set model only if not resuming\u001b[39;00m\n\u001b[0;32m    335\u001b[0m     \u001b[38;5;28mself\u001b[39m\u001b[38;5;241m.\u001b[39mtrainer\u001b[38;5;241m.\u001b[39mmodel \u001b[38;5;241m=\u001b[39m \u001b[38;5;28mself\u001b[39m\u001b[38;5;241m.\u001b[39mtrainer\u001b[38;5;241m.\u001b[39mget_model(weights\u001b[38;5;241m=\u001b[39m\u001b[38;5;28mself\u001b[39m\u001b[38;5;241m.\u001b[39mmodel \u001b[38;5;28;01mif\u001b[39;00m \u001b[38;5;28mself\u001b[39m\u001b[38;5;241m.\u001b[39mckpt \u001b[38;5;28;01melse\u001b[39;00m \u001b[38;5;28;01mNone\u001b[39;00m, cfg\u001b[38;5;241m=\u001b[39m\u001b[38;5;28mself\u001b[39m\u001b[38;5;241m.\u001b[39mmodel\u001b[38;5;241m.\u001b[39myaml)\n",
      "File \u001b[1;32mc:\\Users\\simon\\OneDrive\\Schule\\2023_WS\\THUAS\\colruyt\\colruyt-destack\\.venv\\lib\\site-packages\\ultralytics\\models\\yolo\\segment\\train.py:30\u001b[0m, in \u001b[0;36mSegmentationTrainer.__init__\u001b[1;34m(self, cfg, overrides, _callbacks)\u001b[0m\n\u001b[0;32m     28\u001b[0m     overrides \u001b[38;5;241m=\u001b[39m {}\n\u001b[0;32m     29\u001b[0m overrides[\u001b[38;5;124m'\u001b[39m\u001b[38;5;124mtask\u001b[39m\u001b[38;5;124m'\u001b[39m] \u001b[38;5;241m=\u001b[39m \u001b[38;5;124m'\u001b[39m\u001b[38;5;124msegment\u001b[39m\u001b[38;5;124m'\u001b[39m\n\u001b[1;32m---> 30\u001b[0m \u001b[38;5;28;43msuper\u001b[39;49m\u001b[43m(\u001b[49m\u001b[43m)\u001b[49m\u001b[38;5;241;43m.\u001b[39;49m\u001b[38;5;21;43m__init__\u001b[39;49m\u001b[43m(\u001b[49m\u001b[43mcfg\u001b[49m\u001b[43m,\u001b[49m\u001b[43m \u001b[49m\u001b[43moverrides\u001b[49m\u001b[43m,\u001b[49m\u001b[43m \u001b[49m\u001b[43m_callbacks\u001b[49m\u001b[43m)\u001b[49m\n",
      "File \u001b[1;32mc:\\Users\\simon\\OneDrive\\Schule\\2023_WS\\THUAS\\colruyt\\colruyt-destack\\.venv\\lib\\site-packages\\ultralytics\\engine\\trainer.py:120\u001b[0m, in \u001b[0;36mBaseTrainer.__init__\u001b[1;34m(self, cfg, overrides, _callbacks)\u001b[0m\n\u001b[0;32m    118\u001b[0m             \u001b[38;5;28mself\u001b[39m\u001b[38;5;241m.\u001b[39margs\u001b[38;5;241m.\u001b[39mdata \u001b[38;5;241m=\u001b[39m \u001b[38;5;28mself\u001b[39m\u001b[38;5;241m.\u001b[39mdata[\u001b[38;5;124m'\u001b[39m\u001b[38;5;124myaml_file\u001b[39m\u001b[38;5;124m'\u001b[39m]  \u001b[38;5;66;03m# for validating 'yolo train data=url.zip' usage\u001b[39;00m\n\u001b[0;32m    119\u001b[0m \u001b[38;5;28;01mexcept\u001b[39;00m \u001b[38;5;167;01mException\u001b[39;00m \u001b[38;5;28;01mas\u001b[39;00m e:\n\u001b[1;32m--> 120\u001b[0m     \u001b[38;5;28;01mraise\u001b[39;00m \u001b[38;5;167;01mRuntimeError\u001b[39;00m(emojis(\u001b[38;5;124mf\u001b[39m\u001b[38;5;124m\"\u001b[39m\u001b[38;5;124mDataset \u001b[39m\u001b[38;5;124m'\u001b[39m\u001b[38;5;132;01m{\u001b[39;00mclean_url(\u001b[38;5;28mself\u001b[39m\u001b[38;5;241m.\u001b[39margs\u001b[38;5;241m.\u001b[39mdata)\u001b[38;5;132;01m}\u001b[39;00m\u001b[38;5;124m'\u001b[39m\u001b[38;5;124m error ❌ \u001b[39m\u001b[38;5;132;01m{\u001b[39;00me\u001b[38;5;132;01m}\u001b[39;00m\u001b[38;5;124m\"\u001b[39m)) \u001b[38;5;28;01mfrom\u001b[39;00m \u001b[38;5;21;01me\u001b[39;00m\n\u001b[0;32m    122\u001b[0m \u001b[38;5;28mself\u001b[39m\u001b[38;5;241m.\u001b[39mtrainset, \u001b[38;5;28mself\u001b[39m\u001b[38;5;241m.\u001b[39mtestset \u001b[38;5;241m=\u001b[39m \u001b[38;5;28mself\u001b[39m\u001b[38;5;241m.\u001b[39mget_dataset(\u001b[38;5;28mself\u001b[39m\u001b[38;5;241m.\u001b[39mdata)\n\u001b[0;32m    123\u001b[0m \u001b[38;5;28mself\u001b[39m\u001b[38;5;241m.\u001b[39mema \u001b[38;5;241m=\u001b[39m \u001b[38;5;28;01mNone\u001b[39;00m\n",
      "\u001b[1;31mRuntimeError\u001b[0m: Dataset 'vision/data/no-bars_no-classes/data.yaml/data.yaml' error  './vision/data/no-bars_no-classes/data.yaml/data.yaml' does not exist"
     ]
    }
   ],
   "source": [
    "#train model\n",
    "segment_model.train(seg_params)"
   ]
  },
  {
   "cell_type": "code",
   "execution_count": null,
   "metadata": {},
   "outputs": [],
   "source": [
    "#evaluate model\n",
    "segment_model.test()"
   ]
  },
  {
   "cell_type": "code",
   "execution_count": null,
   "metadata": {},
   "outputs": [],
   "source": [
    "#try model out on image(s)\n",
    "results = segment_model.predict(seg_params[PATH]+\"/test/images\")"
   ]
  },
  {
   "cell_type": "markdown",
   "metadata": {},
   "source": [
    "# Classification Model\n",
    "This model is used to take cropped images of crate fronts and classify them by their pickup method. These classifications will then be combined to determine pickup point"
   ]
  },
  {
   "cell_type": "code",
   "execution_count": 17,
   "metadata": {},
   "outputs": [],
   "source": [
    "class_model = ClassificationModel()"
   ]
  },
  {
   "cell_type": "code",
   "execution_count": null,
   "metadata": {},
   "outputs": [],
   "source": [
    "learning_rate = 0.001\n",
    "weight_decay = 0.004\n",
    "callback = keras.callbacks.EarlyStopping(monitor=\"val_loss\", patience=3)\n",
    "params = {\n",
    "    IMG_SIZE: (640,640),\n",
    "    BATCH_SIZE: 16,\n",
    "    OPTIMIZER: keras.optimizers.AdamW(learning_rate,weight_decay),\n",
    "    LOSS: keras.losses.SparseCategoricalCrossentropy(from_logits=False),\n",
    "    METRICS: [\"accuracy\"],\n",
    "    EPOCHS: 20,\n",
    "    CALLBACKS: [callback]\n",
    "}"
   ]
  },
  {
   "cell_type": "code",
   "execution_count": null,
   "metadata": {},
   "outputs": [],
   "source": [
    "#load previous model\n",
    "class_model.load_model()"
   ]
  },
  {
   "cell_type": "code",
   "execution_count": null,
   "metadata": {},
   "outputs": [],
   "source": [
    "#train model\n",
    "class_model.train(params, show=True)"
   ]
  },
  {
   "cell_type": "code",
   "execution_count": null,
   "metadata": {},
   "outputs": [],
   "source": [
    "#evaluate model\n",
    "class_model.test()"
   ]
  },
  {
   "cell_type": "code",
   "execution_count": null,
   "metadata": {},
   "outputs": [],
   "source": [
    "#test model on new image\n",
    "class_model.predict(1) #TODO: update"
   ]
  },
  {
   "cell_type": "markdown",
   "metadata": {},
   "source": [
    "# Complete Pipeline"
   ]
  },
  {
   "cell_type": "markdown",
   "metadata": {},
   "source": [
    "### Connect to camera"
   ]
  },
  {
   "cell_type": "markdown",
   "metadata": {},
   "source": [
    "### Load models"
   ]
  },
  {
   "cell_type": "code",
   "execution_count": 2,
   "metadata": {},
   "outputs": [
    {
     "name": "stdout",
     "output_type": "stream",
     "text": [
      "WARNING:tensorflow:From c:\\Users\\simon\\OneDrive\\Schule\\2023_WS\\THUAS\\colruyt\\colruyt-destack\\.venv\\lib\\site-packages\\keras\\src\\backend.py:277: The name tf.reset_default_graph is deprecated. Please use tf.compat.v1.reset_default_graph instead.\n",
      "\n"
     ]
    }
   ],
   "source": [
    "from keras import backend as K\n",
    "\n",
    "K.clear_session()"
   ]
  },
  {
   "cell_type": "code",
   "execution_count": 3,
   "metadata": {},
   "outputs": [],
   "source": [
    "sm = SegmentationModel()\n",
    "sm.load_model()"
   ]
  },
  {
   "cell_type": "code",
   "execution_count": 4,
   "metadata": {},
   "outputs": [
    {
     "name": "stdout",
     "output_type": "stream",
     "text": [
      "WARNING:tensorflow:From c:\\Users\\simon\\OneDrive\\Schule\\2023_WS\\THUAS\\colruyt\\colruyt-destack\\.venv\\lib\\site-packages\\keras\\src\\layers\\pooling\\max_pooling2d.py:161: The name tf.nn.max_pool is deprecated. Please use tf.nn.max_pool2d instead.\n",
      "\n",
      "Model: \"sequential_1\"\n",
      "_________________________________________________________________\n",
      " Layer (type)                Output Shape              Param #   \n",
      "=================================================================\n",
      " sequential (Sequential)     (None, 640, 640, 3)       0         \n",
      "                                                                 \n",
      " rescaling (Rescaling)       (None, 640, 640, 3)       0         \n",
      "                                                                 \n",
      " conv2d (Conv2D)             (None, 640, 640, 16)      448       \n",
      "                                                                 \n",
      " max_pooling2d (MaxPooling2  (None, 320, 320, 16)      0         \n",
      " D)                                                              \n",
      "                                                                 \n",
      " conv2d_1 (Conv2D)           (None, 320, 320, 32)      4640      \n",
      "                                                                 \n",
      " max_pooling2d_1 (MaxPoolin  (None, 160, 160, 32)      0         \n",
      " g2D)                                                            \n",
      "                                                                 \n",
      " conv2d_2 (Conv2D)           (None, 160, 160, 64)      18496     \n",
      "                                                                 \n",
      " max_pooling2d_2 (MaxPoolin  (None, 80, 80, 64)        0         \n",
      " g2D)                                                            \n",
      "                                                                 \n",
      " dropout (Dropout)           (None, 80, 80, 64)        0         \n",
      "                                                                 \n",
      " flatten (Flatten)           (None, 409600)            0         \n",
      "                                                                 \n",
      " dense (Dense)               (None, 128)               52428928  \n",
      "                                                                 \n",
      " dense_1 (Dense)             (None, 64)                8256      \n",
      "                                                                 \n",
      " dense_2 (Dense)             (None, 4)                 260       \n",
      "                                                                 \n",
      "=================================================================\n",
      "Total params: 52461028 (200.12 MB)\n",
      "Trainable params: 52461028 (200.12 MB)\n",
      "Non-trainable params: 0 (0.00 Byte)\n",
      "_________________________________________________________________\n"
     ]
    }
   ],
   "source": [
    "cm = ClassificationModel()\n",
    "cm.load_model()"
   ]
  },
  {
   "cell_type": "code",
   "execution_count": 6,
   "metadata": {},
   "outputs": [
    {
     "data": {
      "image/png": "[encoded data removed]",
      "text/plain": [
       "<IPython.core.display.Image object>"
      ]
     },
     "execution_count": 6,
     "metadata": {},
     "output_type": "execute_result"
    }
   ],
   "source": [
    "keras.utils.plot_model(cm.model,\n",
    "                       \"model.png\",\n",
    "                       show_shapes=True)"
   ]
  },
  {
   "cell_type": "markdown",
   "metadata": {},
   "source": [
    "### Combine stream"
   ]
  },
  {
   "cell_type": "code",
   "execution_count": 15,
   "metadata": {},
   "outputs": [],
   "source": [
    "def init_camera_streams():\n",
    "    # Configure depth and color streams\n",
    "    pipeline = rs.pipeline()\n",
    "    config = rs.config()\n",
    "\n",
    "    config.enable_stream(rs.stream.depth)\n",
    "    config.enable_stream(rs.stream.color)\n",
    "\n",
    "    # Start streaming\n",
    "    pipeline.start(config)\n",
    "    sensor = pipeline.get_active_profile().get_device().query_sensors()[1]\n",
    "\n",
    "    # Set the exposure anytime during the operation\n",
    "    sensor.set_option(rs.option.exposure, 500.000)\n",
    "    #sensor.set_option(rs.option.laser_power, 180)\n",
    "    align_to = rs.stream.color\n",
    "    align = rs.align(align_to)\n",
    "\n",
    "    font = ImageFont.truetype(\"vision/data/Arial.ttf\", 20)\n",
    "    filters = [rs.spatial_filter(),rs.temporal_filter()]\n",
    "    return pipeline, align, filters, font\n",
    "\n",
    "def get_frames(pipeline, align, filters):\n",
    "    # Wait for a coherent pair of frames: depth and color\n",
    "    frames = pipeline.wait_for_frames()\n",
    "    aligned_frames = align.process(frames)\n",
    "    depth_frame = aligned_frames.get_depth_frame()\n",
    "    for filter in filters:\n",
    "        depth_frame = filter.process(depth_frame)\n",
    "    depth_frame = depth_frame.as_depth_frame()\n",
    "    color_frame = aligned_frames.get_color_frame()\n",
    "\n",
    "    color_intrin = color_frame.profile.as_video_stream_profile().intrinsics\n",
    "    k = np.array(((color_intrin.fx, 0, color_intrin.ppx),\n",
    "            (0,color_intrin.fy, color_intrin.ppy),\n",
    "            (0,0,1)))\n",
    "    d = np.array(color_intrin.coeffs)\n",
    "    return color_frame, depth_frame, k, d, color_intrin\n",
    "\n",
    "def get_valid_neighbors(coords,limits,size):\n",
    "    neighbours = []\n",
    "    for i in range(-size,size+1):\n",
    "        for j in range(-size,size+1):\n",
    "            xn, yn = coords[0]+i, coords[1]+j\n",
    "            if (xn,yn) != coords:\n",
    "                if 0 <= xn < limits[0] and 0 <= yn < limits[1]:\n",
    "                    neighbours.append((xn,yn))\n",
    "    return neighbours\n",
    "\n",
    "def get_2d_points(mask_raw, limits, c1):\n",
    "    polygon = mask_raw.xy[0]\n",
    "    epsilon = 0.1 * cv2.arcLength(polygon, True)\n",
    "    box = cv2.approxPolyDP(polygon, epsilon, True)\n",
    "    if box.shape != (4,1,2):\n",
    "        return\n",
    "    box = box.reshape(4,2)\n",
    "    #rect = cv2.minAreaRect(polygon)\n",
    "    #box = cv2.boxPoints(rect)\n",
    "    sorted_box = box[np.argsort(box[:, 0])]\n",
    "    top_points = [tuple(sorted_box[0]),tuple(sorted_box[1])]\n",
    "    c1.polygon(box,outline=(0,255,0),width=5)\n",
    "    c1.line(top_points,fill=(255,255,0),width=5)\n",
    "\n",
    "    top_x, top_y = np.mean(top_points, axis=0).astype(int)\n",
    "    center_x, center_y = np.mean(box,axis=0).astype(int)\n",
    "    \n",
    "    rel_2d_points = list(sorted_box.copy())\n",
    "    rel_2d_points.append([top_x,top_y])\n",
    "    rel_2d_points.append([center_x,center_y])\n",
    "\n",
    "    r = 5\n",
    "    for i, (x,y) in enumerate(rel_2d_points):\n",
    "        x = int(np.clip(x, 0, limits[0]-1))\n",
    "        y = int(np.clip(y, 0, limits[1]-1))\n",
    "        rel_2d_points[i] = [x,y]\n",
    "        c1.ellipse([(x-r,y-r),(x+r,y+r)],fill=(0,0,255))\n",
    "        \n",
    "    return rel_2d_points\n",
    "\n",
    "def get_camera_3d_points(depth_frame, rel_2d_points, color_intrin, limits, depth_draw):\n",
    "    rel_3d_points = []\n",
    "    for x_2d,y_2d in rel_2d_points:\n",
    "        depth = depth_frame.get_distance(x_2d,y_2d)\n",
    "        if depth == 0:\n",
    "            neighbours = get_valid_neighbors((x_2d,y_2d),(limits[0],limits[1]),1)\n",
    "            distances = []\n",
    "            for nx, ny in neighbours:\n",
    "                depth = depth_frame.get_distance(nx, ny)\n",
    "                if depth != 0:\n",
    "                    distances.append(depth)\n",
    "            \n",
    "            if distances:\n",
    "                depth = np.median(distances)\n",
    "            else:\n",
    "                depth = 0\n",
    "                print(0)\n",
    "                r=5\n",
    "                depth_draw.ellipse([(x_2d-r,y_2d-r),(x_2d+r,y_2d+r)],fill=(0,255,255))\n",
    "\n",
    "        #right: x, down: y, forward: z\n",
    "        result = rs.rs2_deproject_pixel_to_point(color_intrin, [x_2d, y_2d], depth)\n",
    "        \"\"\"\n",
    "        Camera:     Robot:\n",
    "        x: down     x: left\n",
    "        y: left     y: back\n",
    "        z: forward  z: up\n",
    "\n",
    "        Robot = Camera:\n",
    "        x -> y\n",
    "        y -> -z\n",
    "        z -> -x\n",
    "        \"\"\"\n",
    "        x_cam,y_cam,z_cam = result\n",
    "        x_rob = y_cam\n",
    "        y_rob = -z_cam\n",
    "        z_rob = -x_cam\n",
    "\n",
    "        rel_3d_points.append([x_rob,y_rob,z_rob])\n",
    "    return rel_3d_points\n",
    "\n",
    "def draw_angle_lines(rel_3d_points,rot,trans,k,d,c1):\n",
    "    line1_points = [tuple(rel_3d_points[0]),tuple(rel_3d_points[1])]\n",
    "    line2_points = [tuple(rel_3d_points[0]),tuple(rel_3d_points[2])]\n",
    "    line1_vec = np.array(line1_points[1]) - np.array(line1_points[0])\n",
    "    line2_vec = np.array(line2_points[1]) - np.array(line2_points[0])\n",
    "    normal_vector = np.cross(line1_vec, line2_vec)\n",
    "    normal_vector_unit = normal_vector / np.linalg.norm(normal_vector)\n",
    "    point_on_vector = normal_vector_unit * 0.1\n",
    "    line3_points = [tuple(rel_3d_points[0]),tuple(point_on_vector)]\n",
    "    points = line1_points + line2_points + line3_points\n",
    "\n",
    "    displayed_points = []\n",
    "    for point in points:\n",
    "        point_2d, jacobian = cv2.projectPoints(np.array(point), rot, trans, k, d)\n",
    "        displayed_points.append(tuple(point_2d.flatten()))\n",
    "    \n",
    "    tuples_list = [(displayed_points[i], displayed_points[i + 1]) for i in range(0, len(displayed_points) - 1, 2)]\n",
    "    \n",
    "    for points in tuples_list:\n",
    "        c1.line(points,fill=(255,255,255),width=5)\n",
    "\n",
    "def show_3d_points(points_3d, rot, trans, k, d, c1):\n",
    "    for point_3d in points_3d:\n",
    "        point_3d = np.array(point_3d,dtype=np.float64)\n",
    "        point_2d, jacobian = cv2.projectPoints(point_3d, rot, trans, k, d)\n",
    "        x,y = tuple(point_2d.flatten())\n",
    "        r=5\n",
    "        c1.ellipse([(x-r,y-r),(x+r,y+r)],fill=(0,255,255))\n",
    "\n",
    "\n",
    "def calculate_rotational_angles(plane_coordinates):\n",
    "    # Extracting the coordinates of the plane\n",
    "    p1, p2, p3, p4 = plane_coordinates\n",
    "\n",
    "    # Calculate vectors along two edges of the plane\n",
    "    v1 = np.array(p2) - np.array(p1)\n",
    "    v2 = np.array(p3) - np.array(p1)\n",
    "\n",
    "    # Calculate the cross product to get the normal vector of the plane\n",
    "    normal_vector = np.cross(v1, v2)\n",
    "    # Normalize the normal vector\n",
    "    normal_vector /= np.linalg.norm(normal_vector)\n",
    "\n",
    "    # Calculate angles around x, y, and z axes (Euler angles)\n",
    "    x_angle = np.arctan2(normal_vector[2], normal_vector[1])\n",
    "    y_angle = np.arctan2(-normal_vector[0], np.sqrt(normal_vector[1]**2 + normal_vector[2]**2))\n",
    "    z_angle = np.arctan2(v2[0], v1[0])\n",
    "\n",
    "    # Convert angles from radians to degrees\n",
    "    x_angle_deg = np.degrees(x_angle)\n",
    "    y_angle_deg = np.degrees(y_angle)\n",
    "    z_angle_deg = np.degrees(z_angle)\n",
    "\n",
    "    return x_angle_deg, y_angle_deg, z_angle_deg\n",
    "\n",
    "def get_robot_coords(camera_coords):\n",
    "    R = np.array([[    0.88944,     0.45694,  -0.0094595],\n",
    "    [   -0.12844,     0.26977,     0.95432],\n",
    "    [    0.43862,     -0.8476,     0.29864]])\n",
    "    t = np.array([    0.66218,    0.028405,     -1.7851])\n",
    "    new_coords = np.dot(R,camera_coords) + t\n",
    "\n",
    "    return new_coords"
   ]
  },
  {
   "cell_type": "code",
   "execution_count": 16,
   "metadata": {},
   "outputs": [
    {
     "name": "stdout",
     "output_type": "stream",
     "text": [
      "\n",
      "0: 384x640 3 Crates, 194.0ms\n",
      "Speed: 0.0ms preprocess, 194.0ms inference, 4.0ms postprocess per image at shape (1, 3, 384, 640)\n",
      "Results saved to \u001b[1mvision\\crops\\monkey\\predict\u001b[0m\n",
      "-0.056030649862855775 -0.7922935978883505 -0.9799868945232034 -78.15 -19.42 -1.75\n",
      "(-0.06, -0.79, -0.98, -78.15, -19.42, -1.75)\n",
      "0.19808583851174266 -0.5029651360690593 -0.8146140996354817 -121.81 -2.74 -33.54\n",
      "(0.2, -0.5, -0.81, -121.81, -2.74, -33.54)\n",
      "0.259773808356896 -0.7460307138079404 -0.8764174879792331 -67.33 3.22 4.17\n",
      "(0.26, -0.75, -0.88, -67.33, 3.22, 4.17)\n"
     ]
    }
   ],
   "source": [
    "pipeline, align, filters, font = init_camera_streams()\n",
    "try:\n",
    "    while True:\n",
    "        color_frame, depth_frame, k, d, color_intrin = get_frames(pipeline, align, filters)\n",
    "        if not depth_frame or not color_frame:\n",
    "            continue\n",
    "\n",
    "        color_image = np.asanyarray(color_frame.get_data())\n",
    "        img_color = Image.fromarray(color_image)\n",
    "        img_color.save(\"input_color.jpg\")\n",
    "\n",
    "        results = sm.predict(color_image,False,True)\n",
    "        #classes, conf_list = cm.predict(\"vision/crops/predict/crops/Crate\")\n",
    "        data_image = Image.open(\"vision/crops/monkey/predict/image0.jpg\") #seg prediction results\n",
    "        color_draw = ImageDraw.Draw(data_image)\n",
    "        depth_image = np.asanyarray(depth_frame.get_data())\n",
    "        min_depth = 850  # Minimum depth value\n",
    "        max_depth = 1700  # Maximum depth value\n",
    "        depth_image_clipped = np.clip(depth_image, min_depth, max_depth)\n",
    "        normalized_depth = (depth_image_clipped - min_depth) / (max_depth - min_depth)\n",
    "        depth_colormap = cv2.applyColorMap((normalized_depth * 255).astype(np.uint8), cv2.COLORMAP_JET)\n",
    "        cv2.imwrite(\"depth.jpg\", depth_colormap)\n",
    "\n",
    "        masks = results[0].masks\n",
    "        #for mask_raw, label in zip(masks,classes): #do classification result interpretation\n",
    "        for mask_raw in masks:\n",
    "            rel_2d_points = get_2d_points(mask_raw, data_image.size, color_draw)\n",
    "            if not rel_2d_points:\n",
    "                print(\"Box has incorrect shape -> no crate\")\n",
    "                continue\n",
    "            rel_3d_points = get_camera_3d_points(depth_frame, rel_2d_points, color_intrin,data_image.size, color_draw)\n",
    "            success, rot, trans = cv2.solvePnP(np.array(rel_3d_points).astype(\"float32\"),np.array(rel_2d_points).astype(\"float32\"),k,d)\n",
    "            \n",
    "            show_3d_points(rel_3d_points[:4],rot, trans, k, d, color_draw)\n",
    "            #draw_angle_lines(rel_3d_points,rot,trans,k,d,color_draw)\n",
    "\n",
    "            robot_coords = []\n",
    "            for coord in rel_3d_points[:4]:\n",
    "                rob_coord = get_robot_coords(coord)\n",
    "                robot_coords.append(rob_coord)\n",
    "            \n",
    "            x,y,z = get_robot_coords(rel_3d_points[4])\n",
    "            rx,ry,rz = calculate_rotational_angles(robot_coords)\n",
    "            point = tuple(round(c,1) for c in (x,y,z,rx,ry,rz))\n",
    "            print(point)\n",
    "            color_draw.text(rel_2d_points[4], f\"{x,y,z,rx,ry,rz}\", fill=(255,255,255), font=font)\n",
    "            \n",
    "        data_image.show()\n",
    "        data_image.save(\"distance_annot.jpg\")\n",
    "        break\n",
    "except Exception as e:\n",
    "    print(e)\n",
    "    pass\n",
    "finally:\n",
    "    pipeline.stop()"
   ]
  },
  {
   "cell_type": "code",
   "execution_count": 13,
   "metadata": {},
   "outputs": [
    {
     "name": "stdout",
     "output_type": "stream",
     "text": [
      "Rotation matrix:\n",
      "[[    0.88944     0.45694  -0.0094595]\n",
      " [   -0.12844     0.26977     0.95432]\n",
      " [    0.43862     -0.8476     0.29864]]\n",
      "\n",
      "Translation vector:\n",
      "[    0.66218    0.028405     -1.7851]\n",
      "New coords: [   -0.15533     -1.0214    -0.97898]\n"
     ]
    }
   ],
   "source": [
    "centroid_camera = np.mean(points_camera, axis=0)\n",
    "centroid_robot = np.mean(points_robot, axis=0)\n",
    "\n",
    "centered_points_camera = points_camera - centroid_camera\n",
    "centered_points_robot = points_robot - centroid_robot\n",
    "\n",
    "# Singular Value Decomposition\n",
    "H = np.dot(centered_points_camera.T, centered_points_robot)\n",
    "U, S, Vt = np.linalg.svd(H)\n",
    "\n",
    "# Calculate rotation matrix\n",
    "R = np.dot(Vt.T, U.T)\n",
    "\n",
    "# Handle reflection case\n",
    "if np.linalg.det(R) < 0:\n",
    "    Vt[2, :] *= -1\n",
    "    R = np.dot(Vt.T, U.T)\n",
    "\n",
    "# Calculate translation\n",
    "t = centroid_robot - np.dot(R, centroid_camera)\n",
    "\n",
    "print(\"Rotation matrix:\")\n",
    "print(R)\n",
    "print(\"\\nTranslation vector:\")\n",
    "print(t)\n",
    "old_coords = np.array(points_camera[0])\n",
    "new_coords = np.dot(R,old_coords) + t\n",
    "print(\"New coords:\",new_coords)\n"
   ]
  },
  {
   "cell_type": "code",
   "execution_count": null,
   "metadata": {},
   "outputs": [],
   "source": [
    "\"\"\"\n",
    "Vision Pipeline\n",
    "- Load models\n",
    "- Init camera params\n",
    "- Get frames\n",
    "- Get segmentation results\n",
    "- Get classification results (-> ignore/alert)\n",
    "- Get corner pixel coordinates\n",
    "- Get corner camera 3d coordinates\n",
    "- Get \n",
    "\"\"\""
   ]
  }
 ],
 "metadata": {
  "kernelspec": {
   "display_name": ".venv",
   "language": "python",
   "name": "python3"
  },
  "language_info": {
   "codemirror_mode": {
    "name": "ipython",
    "version": 3
   },
   "file_extension": ".py",
   "mimetype": "text/x-python",
   "name": "python",
   "nbconvert_exporter": "python",
   "pygments_lexer": "ipython3",
   "version": "3.10.11"
  }
 },
 "nbformat": 4,
 "nbformat_minor": 2
}
